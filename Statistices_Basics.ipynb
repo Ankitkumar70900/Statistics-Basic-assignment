{
  "nbformat": 4,
  "nbformat_minor": 0,
  "metadata": {
    "colab": {
      "provenance": []
    },
    "kernelspec": {
      "name": "python3",
      "display_name": "Python 3"
    },
    "language_info": {
      "name": "python"
    }
  },
  "cells": [
    {
      "cell_type": "code",
      "execution_count": 1,
      "metadata": {
        "colab": {
          "base_uri": "https://localhost:8080/",
          "height": 70
        },
        "id": "UGZR-8PjjVuC",
        "outputId": "f4ecce66-6814-467a-e3bd-17206c374896"
      },
      "outputs": [
        {
          "output_type": "execute_result",
          "data": {
            "text/plain": [
              "'Question 1: What is the difference between descriptive statistics and inferential statistics? Explain with examples.\\n\\nDescriptive Statistics summarize and organize data using numbers, tables, or graphs.\\nExample: Average marks of students in a class.\\nInferential Statistics make predictions or inferences about a population based on a sample.\\nExample: Predicting election results from a survey of 1,000 people.'"
            ],
            "application/vnd.google.colaboratory.intrinsic+json": {
              "type": "string"
            }
          },
          "metadata": {},
          "execution_count": 1
        }
      ],
      "source": [
        "'''Question 1: What is the difference between descriptive statistics and inferential statistics? Explain with examples.\n",
        "\n",
        "Descriptive Statistics summarize and organize data using numbers, tables, or graphs.\n",
        "Example: Average marks of students in a class.\n",
        "Inferential Statistics make predictions or inferences about a population based on a sample.\n",
        "Example: Predicting election results from a survey of 1,000 people.'''\n",
        "\n"
      ]
    },
    {
      "cell_type": "code",
      "source": [
        "'''Question 2: What is sampling in statistics? Explain the differences between random and stratified sampling.\n",
        "Sampling is the process of selecting a subset of individuals from a population to estimate characteristics of the whole group.\n",
        "•\tRandom Sampling: Every individual has an equal chance of selection.\n",
        "Example: Drawing 10 students randomly from a list of 100.\n",
        "•\tStratified Sampling: The population is divided into subgroups (strata), and samples are drawn from each.\n",
        "Example: Selecting students by year (1st, 2nd, etc.) to ensure representation from each group.\n",
        "'''"
      ],
      "metadata": {
        "colab": {
          "base_uri": "https://localhost:8080/",
          "height": 88
        },
        "id": "5HrXTrCcjoIB",
        "outputId": "960072b7-8473-4e03-a1ab-d65f82a36736"
      },
      "execution_count": 2,
      "outputs": [
        {
          "output_type": "execute_result",
          "data": {
            "text/plain": [
              "'Question 2: What is sampling in statistics? Explain the differences between random and stratified sampling. \\nSampling is the process of selecting a subset of individuals from a population to estimate characteristics of the whole group.\\n•\\tRandom Sampling: Every individual has an equal chance of selection.\\nExample: Drawing 10 students randomly from a list of 100.\\n•\\tStratified Sampling: The population is divided into subgroups (strata), and samples are drawn from each.\\nExample: Selecting students by year (1st, 2nd, etc.) to ensure representation from each group.\\n'"
            ],
            "application/vnd.google.colaboratory.intrinsic+json": {
              "type": "string"
            }
          },
          "metadata": {},
          "execution_count": 2
        }
      ]
    },
    {
      "cell_type": "code",
      "source": [
        "'''Question 3: Define mean, median, and mode. Explain why these measures of central tendency are important.\n",
        "•\tMean: Arithmetic average\n",
        "•\tMedian: Middle value in sorted data\n",
        "•\tMode: Most frequent value\n",
        "These measures help summarize data with a central value, aiding comparison and interpretation.\n",
        "'''"
      ],
      "metadata": {
        "colab": {
          "base_uri": "https://localhost:8080/",
          "height": 53
        },
        "id": "09cnp_k8julX",
        "outputId": "0780b4f8-df17-42a9-fea2-d78c26d84983"
      },
      "execution_count": 3,
      "outputs": [
        {
          "output_type": "execute_result",
          "data": {
            "text/plain": [
              "'Question 3: Define mean, median, and mode. Explain why these measures of central tendency are important.\\n•\\tMean: Arithmetic average\\n•\\tMedian: Middle value in sorted data\\n•\\tMode: Most frequent value\\nThese measures help summarize data with a central value, aiding comparison and interpretation.\\n'"
            ],
            "application/vnd.google.colaboratory.intrinsic+json": {
              "type": "string"
            }
          },
          "metadata": {},
          "execution_count": 3
        }
      ]
    },
    {
      "cell_type": "code",
      "source": [
        "'''Question 4: Explain skewness and kurtosis. What does a positive skew imply about the data?\n",
        "•  Skewness measures asymmetry in data.\n",
        "•\tPositive skew: Tail on the right, mean > median (e.g., income data)\n",
        "•  Kurtosis measures \"tailedness.\"\n",
        "•\tHigh kurtosis: More outliers;\n",
        "•\tLow kurtosis: Fewer outliers\n",
        "\n",
        "'''"
      ],
      "metadata": {
        "colab": {
          "base_uri": "https://localhost:8080/",
          "height": 53
        },
        "id": "kp_V-dAkjyAp",
        "outputId": "0e65d75f-02c3-490e-bb7e-c82f6cd071bb"
      },
      "execution_count": 5,
      "outputs": [
        {
          "output_type": "execute_result",
          "data": {
            "text/plain": [
              "'Question 4: Explain skewness and kurtosis. What does a positive skew imply about the data?\\n•  Skewness measures asymmetry in data.\\n•\\tPositive skew: Tail on the right, mean > median (e.g., income data)\\n•  Kurtosis measures \"tailedness.\"\\n•\\tHigh kurtosis: More outliers;\\n•\\tLow kurtosis: Fewer outliers\\n\\n'"
            ],
            "application/vnd.google.colaboratory.intrinsic+json": {
              "type": "string"
            }
          },
          "metadata": {},
          "execution_count": 5
        }
      ]
    },
    {
      "cell_type": "code",
      "source": [
        "#Question 5: Implement a Python program to compute the mean, median, and mode of a given list of numbers. numbers = [12, 15, 12, 18, 19, 12, 20, 22, 19, 19, 24, 24, 24, 26, 28] (Include your Python code and output in the code box be\n",
        "import statistics\n",
        "\n",
        "numbers = [12, 15, 12, 18, 19, 12, 20, 22, 19, 19, 24, 24, 24, 26, 28]\n",
        "\n",
        "mean_val = statistics.mean(numbers)\n",
        "median_val = statistics.median(numbers)\n",
        "mode_val = statistics.mode(numbers)\n",
        "\n",
        "print(\"Mean:\", mean_val)\n",
        "print(\"Median:\", median_val)\n",
        "print(\"Mode:\", mode_val)\n"
      ],
      "metadata": {
        "colab": {
          "base_uri": "https://localhost:8080/"
        },
        "id": "RISEyQwWj7U6",
        "outputId": "89a11d96-2c8d-402e-f572-e88552f1d23a"
      },
      "execution_count": 6,
      "outputs": [
        {
          "output_type": "stream",
          "name": "stdout",
          "text": [
            "Mean: 19.6\n",
            "Median: 19\n",
            "Mode: 12\n"
          ]
        }
      ]
    },
    {
      "cell_type": "code",
      "source": [
        "#Question 6: Compute the covariance and correlation coefficient between the following two datasets provided as lists in Python: list_x = [10, 20, 30, 40, 50] list_y = [15, 25, 35, 45, 60] (Include your Python code and output in the code box below.)\n",
        "import numpy as np\n",
        "\n",
        "list_x = [10, 20, 30, 40, 50]\n",
        "list_y = [15, 25, 35, 45, 60]\n",
        "\n",
        "covariance = np.cov(list_x, list_y)[0][1]\n",
        "correlation = np.corrcoef(list_x, list_y)[0][1]\n",
        "\n",
        "print(\"Covariance:\", covariance)\n",
        "print(\"Correlation Coefficient:\", correlation)\n"
      ],
      "metadata": {
        "colab": {
          "base_uri": "https://localhost:8080/"
        },
        "id": "5XR5ycqykAZx",
        "outputId": "3f782990-205a-4f85-f7e6-42d5144e4406"
      },
      "execution_count": 7,
      "outputs": [
        {
          "output_type": "stream",
          "name": "stdout",
          "text": [
            "Covariance: 275.0\n",
            "Correlation Coefficient: 0.995893206467704\n"
          ]
        }
      ]
    },
    {
      "cell_type": "code",
      "source": [
        "#Question 7: Write a Python script to draw a boxplot for the following numeric list and identify its outliers. Explain the result: data = [12, 14, 14, 15, 18, 19, 19, 21, 22, 22, 23, 23, 24, 26, 29, 35] (Include your Python code and output in the code box be\n",
        "import matplotlib.pyplot as plt\n",
        "\n",
        "data = [12, 14, 14, 15, 18, 19, 19, 21, 22, 22, 23, 23, 24, 26, 29, 35]\n",
        "\n",
        "plt.boxplot(data)\n",
        "plt.title(\"Boxplot with Outliers\")\n",
        "plt.show()\n"
      ],
      "metadata": {
        "colab": {
          "base_uri": "https://localhost:8080/",
          "height": 452
        },
        "id": "kLn8uwnQkFFi",
        "outputId": "fec41af1-1a79-436a-93e3-2470cba47109"
      },
      "execution_count": 8,
      "outputs": [
        {
          "output_type": "display_data",
          "data": {
            "text/plain": [
              "<Figure size 640x480 with 1 Axes>"
            ],
            "image/png": "[encoded data removed]"
          },
          "metadata": {}
        }
      ]
    },
    {
      "cell_type": "code",
      "source": [
        "#Question 8: You are working as a data analyst in an e-commerce company. The marketing team wants to know if there is a relationship between advertising spend and daily sales. ● Explain how you would use covariance and correlation to explore this relationship. ● Write Python code to compute the correlation between the two lists: advertising_spend = [200, 250, 300, 400, 500] daily_sales = [2200, 2450, 2750, 3200, 4000] (Include your Python code and output in the code box below.)\n",
        "advertising_spend = [200, 250, 300, 400, 500]\n",
        "daily_sales = [2200, 2450, 2750, 3200, 4000]\n",
        "\n",
        "cov = np.cov(advertising_spend, daily_sales)[0][1]\n",
        "corr = np.corrcoef(advertising_spend, daily_sales)[0][1]\n",
        "\n",
        "print(\"Covariance:\", cov)\n",
        "print(\"Correlation Coefficient:\", corr)\n"
      ],
      "metadata": {
        "colab": {
          "base_uri": "https://localhost:8080/"
        },
        "id": "QgLXWVA5kKj7",
        "outputId": "3de4d411-e54a-40e5-9384-69bc763b7842"
      },
      "execution_count": 9,
      "outputs": [
        {
          "output_type": "stream",
          "name": "stdout",
          "text": [
            "Covariance: 84875.0\n",
            "Correlation Coefficient: 0.9935824101653329\n"
          ]
        }
      ]
    },
    {
      "cell_type": "code",
      "source": [
        "#Question 9: Your team has collected customer satisfaction survey data on a scale of 1-10 and wants to understand its distribution before launching a new product. ● Explain which summary statistics and visualizations (e.g. mean, standard deviation, histogram) you’d use. ● Write Python code to create a histogram using Matplotlib for the survey data: survey_scores = [7, 8, 5, 9, 6, 7, 8, 9, 10, 4, 7, 6, 9, 8, 7] (Include your Python code and output in the code box below.)\n",
        "import matplotlib.pyplot as plt\n",
        "import statistics\n",
        "\n",
        "survey_scores = [7, 8, 5, 9, 6, 7, 8, 9, 10, 4, 7, 6, 9, 8, 7]\n",
        "\n",
        "# Histogram\n",
        "plt.hist(survey_scores, bins=6, edgecolor='black')\n",
        "plt.title(\"Customer Satisfaction Histogram\")\n",
        "plt.xlabel(\"Scores\")\n",
        "plt.ylabel(\"Frequency\")\n",
        "plt.show()\n",
        "\n",
        "# Summary\n",
        "print(\"Mean:\", statistics.mean(survey_scores))\n",
        "print(\"Standard Deviation:\", statistics.stdev(survey_scores))\n"
      ],
      "metadata": {
        "colab": {
          "base_uri": "https://localhost:8080/",
          "height": 507
        },
        "id": "kIIFGKwhkPWT",
        "outputId": "9831e045-369c-4209-e0af-43d2d3d667c7"
      },
      "execution_count": 10,
      "outputs": [
        {
          "output_type": "display_data",
          "data": {
            "text/plain": [
              "<Figure size 640x480 with 1 Axes>"
            ],
            "image/png": "[encoded data removed]"
          },
          "metadata": {}
        },
        {
          "output_type": "stream",
          "name": "stdout",
          "text": [
            "Mean: 7.333333333333333\n",
            "Standard Deviation: 1.632993161855452\n"
          ]
        }
      ]
    },
    {
      "cell_type": "code",
      "source": [],
      "metadata": {
        "id": "Mqml_9HAkV0y"
      },
      "execution_count": null,
      "outputs": []
    }
  ]
}